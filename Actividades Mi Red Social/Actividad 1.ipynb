{
 "cells": [
  {
   "cell_type": "markdown",
   "metadata": {},
   "source": [
    "# Mi Red Social - Actividad 1\n",
    "Salida de datos"
   ]
  },
  {
   "cell_type": "code",
   "execution_count": null,
   "metadata": {},
   "outputs": [],
   "source": [
    "\n",
    "#Primero, mostraremos un mensaje en pantalla dando la bienvenida al usuario\n",
    "#y escribiendo el nombre de nuestra red social.\n",
    "\n"
   ]
  },
  {
   "cell_type": "code",
   "execution_count": null,
   "metadata": {},
   "outputs": [],
   "source": [
    "############################################################\n",
    "# Lo primero que haremos será escribir un mensaje de bienvenida al usuario\n",
    "# con el nombre de la red. Puedes modificar este mensajes para que represente el nombre de tu propia red.\n",
    "\n",
    "#http://www.network-science.de/ascii/\n",
    "\n",
    "# Considera que al escribir \"\"\" también estamos delimitado un string, pero al hacerlo de esta manera,\n",
    "# cambios de línea que ocurran en el código se considerarán como parte del string.\n",
    "# Si no estás convencido, prueba el funcionamiento reemplazando los delimitadores por \"\n",
    "# \n",
    "\n",
    "print(\"Bienvenido a ... \")\n",
    "print(\"\"\"\n",
    "              _                  __\n",
    "   ____ ___  (_)  ________  ____/ /\n",
    "  / __ `__ \\/ /  / ___/ _ \\/ __  /\n",
    " / / / / / / /  / /  /  __/ /_/ /\n",
    "/_/ /_/ /_/_/  /_/   \\___/\\__,_/\n",
    "\n",
    "\"\"\")\n"
   ]
  },
  {
   "cell_type": "markdown",
   "metadata": {},
   "source": [
    "# Mi Red Social  - Coloca un nombre a tu red"
   ]
  },
  {
   "cell_type": "code",
   "execution_count": null,
   "metadata": {},
   "outputs": [],
   "source": [
    "print(\"Bienvenido a ... \")\n",
    "print(\"\"\"\n",
    "\n",
    "#\n",
    "\n",
    "\"\"\")\n"
   ]
  }
 ],
 "metadata": {
  "kernelspec": {
   "display_name": "Python 3",
   "language": "python",
   "name": "python3"
  },
  "language_info": {
   "codemirror_mode": {
    "name": "ipython",
    "version": 3
   },
   "file_extension": ".py",
   "mimetype": "text/x-python",
   "name": "python",
   "nbconvert_exporter": "python",
   "pygments_lexer": "ipython3",
   "version": "3.6.8"
  }
 },
 "nbformat": 4,
 "nbformat_minor": 2
}

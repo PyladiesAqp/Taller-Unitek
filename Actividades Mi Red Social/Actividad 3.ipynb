{
 "cells": [
  {
   "cell_type": "markdown",
   "metadata": {},
   "source": [
    "# Mi Red Social - Actividad 3\n",
    "Practicaremos IF ELSE"
   ]
  },
  {
   "cell_type": "code",
   "execution_count": null,
   "metadata": {},
   "outputs": [],
   "source": [
    "#Hola, ahora que ya sabemos construir una interacción básica con nuestro programa\n",
    "#de red social, vamos a agregar nuevas funcionalidades.\n",
    "#\n",
    "#Vamos a partir con el mismo programa de la etapa anterior, que permite dos cosas:\n",
    "#1. Obtener datos del usuario\n",
    "#2. Consultar y mostrar UN mensaje de estado del usuario"
   ]
  },
  {
   "cell_type": "code",
   "execution_count": null,
   "metadata": {},
   "outputs": [],
   "source": [
    "############################################################\n",
    "# Bienvenida\n",
    "\n",
    "print(\"Bienvenido a ... \")\n",
    "print(\"\"\"\n",
    "              _                  __\n",
    "   ____ ___  (_)  ________  ____/ /\n",
    "  / __ `__ \\/ /  / ___/ _ \\/ __  /\n",
    " / / / / / / /  / /  /  __/ /_/ /\n",
    "/_/ /_/ /_/_/  /_/   \\___/\\__,_/\n",
    "\n",
    "\"\"\")\n",
    "\n",
    "# Solicitud de nombre\n",
    "nombre = input(\"Para empezar, dime como te llamas. \")\n",
    "print()\n",
    "print(\"Hola \", nombre, \", bienvenido a Mi Red\")\n",
    "print()\n",
    "\n",
    "# Cálculo de edad\n",
    "agno = int(input(\"Para preparar tu perfil, dime en qué año naciste. \"))\n",
    "edad = 2017-agno-1\n",
    "print()\n",
    "\n",
    "# Cálculo de estatura\n",
    "estatura = float(input(\"Cuéntame más de ti, para agregarlo a tu perfil. ¿Cuánto mides? Dímelo en metros. \"))\n",
    "estatura_m = int(estatura)\n",
    "estatura_cm = int( (estatura - estatura_m)*100 )\n",
    "\n",
    "# Cantidad de amigos\n",
    "num_amigos = int(input(\"Muy bien. Finalmente, cuéntame cuantos amigos tienes. \"))\n",
    "\n",
    "#Con los datos recolectados escribimos en pantalla un texto que resuma los datos que hemos obtenido\n",
    "print()\n",
    "print(\"Muy bien,\", nombre, \". Entonces podemos crear un perfil con estos datos.\")\n",
    "print(\"--------------------------------------------------\")\n",
    "print(\"Nombre:  \", nombre)\n",
    "print(\"Edad:    \", edad, \"años\")\n",
    "print(\"Estatura:\", estatura_m, \"metros y\", estatura_cm, \"centímetros\")\n",
    "print(\"Amigos:  \", num_amigos)\n",
    "print(\"--------------------------------------------------\")\n",
    "print(\"Gracias por la información. Esperamos que disfrutes con Mi Red\")\n",
    "print()\n",
    "\n",
    "# Observa que el pedazo de código para publiar un Mensaje en tu Red no está aquí. Esto es \n",
    "# porque lo haremos de manera iteratva más adelante."
   ]
  },
  {
   "cell_type": "code",
   "execution_count": null,
   "metadata": {},
   "outputs": [],
   "source": [
    "\n",
    "\n",
    "#Solicitamos opción al usuario\n",
    "escribir_mensaje = str(input(\"¿Deseas escribir un mensaje? (S/N) \"))\n",
    "\n",
    "#Vamos a aceptar que el usuario ingrese un mensaje cuando escriban \"S\", \"s\", o nada\n",
    "if escribir_mensaje == \"S\" or escribir_mensaje == \"s\":\n",
    "    mensaje = input(\"Vamos a publicar un mensaje. ¿Qué piensas hoy? \")\n",
    "    print()\n",
    "    print(\"--------------------------------------------------\")\n",
    "    print(nombre, \"dice:\", mensaje)\n",
    "    print(\"--------------------------------------------------\")\n",
    "\n",
    "print(\"Gracias por usar Mi Red. Hasta pronto! \")"
   ]
  },
  {
   "cell_type": "markdown",
   "metadata": {},
   "source": [
    "# Ejercicio\n",
    "\n",
    "#Te proponemos el siguiente desafío:"
   ]
  },
  {
   "cell_type": "code",
   "execution_count": null,
   "metadata": {},
   "outputs": [],
   "source": [
    "#\n",
    "# 1. Este programa termina cada vez que el valor de 'escribir_mensaje' es distinto a \"S\" o a \"s\".\n",
    "\n",
    "#   Modifique el programa para que termine ÚNICAMENTE cuando se ingresa \"N\" o \"n\".\n",
    "\n",
    "#   En caso que se ingrese algo distinto, mostrar \"La opción ingresada no es válida\""
   ]
  }
 ],
 "metadata": {
  "kernelspec": {
   "display_name": "Python 3",
   "language": "python",
   "name": "python3"
  },
  "language_info": {
   "codemirror_mode": {
    "name": "ipython",
    "version": 3
   },
   "file_extension": ".py",
   "mimetype": "text/x-python",
   "name": "python",
   "nbconvert_exporter": "python",
   "pygments_lexer": "ipython3",
   "version": "3.6.8"
  }
 },
 "nbformat": 4,
 "nbformat_minor": 2
}

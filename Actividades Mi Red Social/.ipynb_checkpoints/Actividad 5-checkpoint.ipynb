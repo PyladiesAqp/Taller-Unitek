{
 "cells": [
  {
   "cell_type": "markdown",
   "metadata": {},
   "source": [
    "# Mi Red Social - Actividad 5\n",
    "#Practicaremos Funciones II"
   ]
  },
  {
   "cell_type": "code",
   "execution_count": null,
   "metadata": {},
   "outputs": [],
   "source": [
    "#Vamos a modificar el código que acabamos de ver para encapsular algunas partes de él\n",
    "#en funciones.\n",
    "\n",
    "#En particular haremos esto con:\n",
    "#1. El mensaje de bienvenida\n",
    "#2. El código para solicitar datos al usuario.\n",
    "#3. El código para mostrar el perfil del usuario\n",
    "#4. El código para mostrar un mensaje en pantalla"
   ]
  },
  {
   "cell_type": "code",
   "execution_count": null,
   "metadata": {},
   "outputs": [],
   "source": [
    "def mostrar_bienvenida():\n",
    "    print(\"Bienvenido a ... \")\n",
    "    print(\"\"\"\n",
    "                  _                  __\n",
    "       ____ ___  (_)  ________  ____/ /\n",
    "      / __ `__ \\/ /  / ___/ _ \\/ __  /\n",
    "     / / / / / / /  / /  /  __/ /_/ /\n",
    "    /_/ /_/ /_/_/  /_/   \\___/\\__,_/\n",
    "\n",
    "    \"\"\")"
   ]
  },
  {
   "cell_type": "code",
   "execution_count": null,
   "metadata": {},
   "outputs": [],
   "source": [
    "def obtener_nombre():\n",
    "    nombre = input(\"Para empezar, dime como te llamas. \")\n",
    "    return nombre"
   ]
  },
  {
   "cell_type": "code",
   "execution_count": null,
   "metadata": {},
   "outputs": [],
   "source": [
    "def obtener_edad():\n",
    "    agno = int(input(\"Para preparar tu perfil, dime en qué año naciste. \"))\n",
    "    return 2017-agno-1"
   ]
  },
  {
   "cell_type": "code",
   "execution_count": null,
   "metadata": {},
   "outputs": [],
   "source": [
    "def obtener_estatura():\n",
    "    estatura = float(input(\"Cuéntame más de ti, para agregarlo a tu perfil. ¿Cuánto mides? Dímelo en metros. \"))\n",
    "    metros = int(estatura)\n",
    "    centimetros = int( (estatura - metros)*100 )\n",
    "    return (metros, centimetros)"
   ]
  },
  {
   "cell_type": "code",
   "execution_count": null,
   "metadata": {},
   "outputs": [],
   "source": [
    "def obtener_num_amigos():\n",
    "    amigos = int(input(\"Muy bien. Finalmente, cuéntame cuantos amigos tienes. \"))\n",
    "    return amigos"
   ]
  },
  {
   "cell_type": "code",
   "execution_count": null,
   "metadata": {},
   "outputs": [],
   "source": [
    "def mostrar_perfil(nombre, edad, estatura_m, estatura_cm, num_amigos):\n",
    "    print(\"--------------------------------------------------\")\n",
    "    print(\"Nombre:   \", nombre)\n",
    "    print(\"Edad:     \", edad, \"años\")\n",
    "    print(\"Estatura: \", estatura_m, \"m y \", estatura_cm, \"centímetros\")\n",
    "    print(\"Amigos:   \", num_amigos)\n",
    "    print(\"--------------------------------------------------\")\n"
   ]
  },
  {
   "cell_type": "code",
   "execution_count": null,
   "metadata": {},
   "outputs": [],
   "source": [
    "def opcion_menu():\n",
    "    print(\"Acciones disponibles:\")\n",
    "    print(\"  1. Escribir un mensaje público\")\n",
    "    print(\"  2. Escribir un mensaje solo a algunos amigos\")\n",
    "    print(\"  3. Mostrar los datos de perfil\")\n",
    "    print(\"  4. Actualizar el perfil de usuario\")\n",
    "    print(\"  0. Salir\")\n",
    "    opcion = int(input(\"Ingresa una opción: \"))\n",
    "    while opcion < 0 or opcion > 4:\n",
    "        print(\"No conozco la opción que has ingresado. Inténtalo otra vez.\")\n",
    "        opcion = int(input(\"Ingresa una opción: \"))\n",
    "    return opcion\n"
   ]
  },
  {
   "cell_type": "code",
   "execution_count": null,
   "metadata": {},
   "outputs": [],
   "source": [
    "def obtener_mensaje():\n",
    "    mensaje = input(\"Ahora vamos a publicar un mensaje. ¿Qué piensas hoy? \")\n",
    "    return mensaje\n"
   ]
  },
  {
   "cell_type": "code",
   "execution_count": 1,
   "metadata": {},
   "outputs": [],
   "source": [
    "def mostrar_mensaje(origen, destinatario, mensaje):\n",
    "    print(\"--------------------------------------------------\")\n",
    "    if destinatario == None:\n",
    "        print(origen, \"dice:\", mensaje)\n",
    "    else:\n",
    "        print(origen, \"dice:\", \"@\"+destinatario, mensaje)\n",
    "    print(\"--------------------------------------------------\")\n"
   ]
  },
  {
   "cell_type": "code",
   "execution_count": null,
   "metadata": {},
   "outputs": [],
   "source": [
    "############################################################\n",
    "# El código anterior era solamente definición de funciones que serán usadas más adelante\n",
    "# Ahora empieza el programa principal."
   ]
  },
  {
   "cell_type": "code",
   "execution_count": null,
   "metadata": {},
   "outputs": [],
   "source": [
    "mostrar_bienvenida()\n",
    "nombre = obtener_nombre()\n",
    "print()\n",
    "print(\"Hola \", nombre, \", bienvenido a Mi Red\")\n",
    "print()\n",
    "edad = obtener_edad()\n",
    "(estatura_m, estatura_cm) = obtener_estatura()\n",
    "num_amigos = obtener_num_amigos()\n",
    "print(\"Muy bien,\", nombre, \". Entonces podemos crear un perfil con estos datos.\")\n",
    "mostrar_perfil(nombre, edad, estatura_m, estatura_cm, num_amigos)\n",
    "print(\"Ya podemos preguntar, recordar y calcular datos. Esperamos que disfrutes con Mi Red\")\n",
    "print(\"--------------------------------------------------\")\n"
   ]
  },
  {
   "cell_type": "code",
   "execution_count": null,
   "metadata": {},
   "outputs": [],
   "source": [
    "# Ingresamos al ciclo que permite ejecutar acciones\n",
    "opcion = 1\n",
    "while opcion != 0:\n",
    "    # Mostramos el menu\n",
    "    opcion = opcion_menu()\n",
    "\n",
    "    #Código para la opción 1. Publicar un mensaje.\n",
    "    if opcion == 1:\n",
    "        mensaje = obtener_mensaje()\n",
    "        mostrar_mensaje(nombre, None, mensaje)\n",
    "\n",
    "    #Código para la opción 2. Publicar un mensaje a un grupo de personas.\n",
    "    elif opcion == 2:\n",
    "        mensaje = obtener_mensaje()\n",
    "        for i in range(num_amigos):\n",
    "            nombre_amigo = input(\"Ingresa el nombre de tu amigo o amiga: \")\n",
    "            mostrar_mensaje(nombre, nombre_amigo, mensaje)\n",
    "\n",
    "    #Código para la opción 3. Publicar los datos del perfil del usuario.\n",
    "    elif opcion == 3:\n",
    "        mostrar_perfil(nombre, edad, estatura_m, estatura_cm, num_amigos)\n",
    "\n",
    "    #Código para la opción 4. Actualizar los datos del perfil del usuario.\n",
    "    elif opcion == 4:\n",
    "        nombre = obtener_nombre()\n",
    "        edad = obtener_edad()\n",
    "        (estatura_m, estatura_cm) = obtener_estatura()\n",
    "        num_amigos = obtener_num_amigos()\n",
    "        mostrar_perfil(nombre, edad, estatura_m, estatura_cm, num_amigos)\n",
    "    elif opcion == 0:\n",
    "        print(\"Has decidido salir.\")\n",
    "\n",
    "print(\"Gracias por usar Mi Red. ¡Hasta pronto!\")\n"
   ]
  },
  {
   "cell_type": "code",
   "execution_count": null,
   "metadata": {},
   "outputs": [],
   "source": [
    "#Como puedes ver, una vez que no hay más definiciones de funciones, el programa principal empieza.\n",
    "#Si lo lees, podrás ver que es mucho más corto, y que hay menos código repetido que en la versión anterior."
   ]
  },
  {
   "cell_type": "markdown",
   "metadata": {},
   "source": [
    "# Ejercicio"
   ]
  },
  {
   "cell_type": "code",
   "execution_count": null,
   "metadata": {},
   "outputs": [],
   "source": [
    "\n",
    "#Te proponemos como desafío:\n",
    "#1. Agrega el atributos como \"sexo\" y \"pais de nacimiento\"\n",
    "#   a los datos que se le piden al usuario, y permite que sean solicitados y leídos usando funciones.\n",
    "#   Tendrás que identificar en qué partes del código debes hacer esa modificación.\n"
   ]
  },
  {
   "cell_type": "code",
   "execution_count": null,
   "metadata": {},
   "outputs": [],
   "source": [
    "def mostrar_bienvenida():\n",
    "    print(\"Bienvenido a ... \")\n",
    "    print(\"\"\"\n",
    "                  _                  __\n",
    "       ____ ___  (_)  ________  ____/ /\n",
    "      / __ `__ \\/ /  / ___/ _ \\/ __  /\n",
    "     / / / / / / /  / /  /  __/ /_/ /\n",
    "    /_/ /_/ /_/_/  /_/   \\___/\\__,_/\n",
    "\n",
    "    \"\"\")\n",
    "\n",
    "def obtener_nombre():\n",
    "    nombre = input(\"Para empezar, dime como te llamas. \")\n",
    "    return nombre\n",
    "\n",
    "def obtener_edad():\n",
    "    agno = int(input(\"Para preparar tu perfil, dime en qué año naciste. \"))\n",
    "    return 2017-agno-1\n",
    "\n",
    "def obtener_estatura():\n",
    "    estatura = float(input(\"Cuéntame más de ti, para agregarlo a tu perfil. ¿Cuánto mides? Dímelo en metros. \"))\n",
    "    metros = int(estatura)\n",
    "    centimetros = int( (estatura - metros)*100 )\n",
    "    return (metros, centimetros)\n",
    "\n",
    "def obtener_num_amigos():\n",
    "    amigos = int(input(\"Muy bien. Finalmente, cuéntame cuantos amigos tienes. \"))\n",
    "    return amigos\n",
    "\n",
    "def mostrar_perfil(nombre, edad, estatura_m, estatura_cm, num_amigos):\n",
    "    print(\"--------------------------------------------------\")\n",
    "    print(\"Nombre:   \", nombre)\n",
    "    print(\"Edad:     \", edad, \"años\")\n",
    "    print(\"Estatura: \", estatura_m, \"m y \", estatura_cm, \"centímetros\")\n",
    "    print(\"Amigos:   \", num_amigos)\n",
    "    print(\"--------------------------------------------------\")\n",
    "\n",
    "def opcion_menu():\n",
    "    print(\"Acciones disponibles:\")\n",
    "    print(\"  1. Escribir un mensaje público\")\n",
    "    print(\"  2. Escribir un mensaje solo a algunos amigos\")\n",
    "    print(\"  3. Mostrar los datos de perfil\")\n",
    "    print(\"  4. Actualizar el perfil de usuario\")\n",
    "    print(\"  0. Salir\")\n",
    "    opcion = int(input(\"Ingresa una opción: \"))\n",
    "    while opcion < 0 or opcion > 4:\n",
    "        print(\"No conozco la opción que has ingresado. Inténtalo otra vez.\")\n",
    "        opcion = int(input(\"Ingresa una opción: \"))\n",
    "    return opcion\n",
    "\n",
    "def obtener_mensaje():\n",
    "    mensaje = input(\"Ahora vamos a publicar un mensaje. ¿Qué piensas hoy? \")\n",
    "    return mensaje\n",
    "\n",
    "def mostrar_mensaje(origen, destinatario, mensaje):\n",
    "    print(\"--------------------------------------------------\")\n",
    "    if destinatario == None:\n",
    "        print(origen, \"dice:\", mensaje)\n",
    "    else:\n",
    "        print(origen, \"dice:\", \"@\"+destinatario, mensaje)\n",
    "    print(\"--------------------------------------------------\")\n",
    "\n",
    "############################################################\n",
    "# El código anterior era solamente definición de funciones que serán usadas más adelante\n",
    "# Ahora empieza el programa principal.\n",
    "\n",
    "mostrar_bienvenida()\n",
    "nombre = obtener_nombre()\n",
    "print()\n",
    "print(\"Hola \", nombre, \", bienvenido a Mi Red\")\n",
    "print()\n",
    "edad = obtener_edad()\n",
    "(estatura_m, estatura_cm) = obtener_estatura()\n",
    "num_amigos = obtener_num_amigos()\n",
    "print(\"Muy bien,\", nombre, \". Entonces podemos crear un perfil con estos datos.\")\n",
    "mostrar_perfil(nombre, edad, estatura_m, estatura_cm, num_amigos)\n",
    "print(\"Ya podemos preguntar, recordar y calcular datos. Esperamos que disfrutes con Mi Red\")\n",
    "print(\"--------------------------------------------------\")\n",
    "\n",
    "# Ingresamos al ciclo que permite ejecutar acciones\n",
    "opcion = 1\n",
    "while opcion != 0:\n",
    "    # Mostramos el menu\n",
    "    opcion = opcion_menu()\n",
    "\n",
    "    #Código para la opción 1. Publicar un mensaje.\n",
    "    if opcion == 1:\n",
    "        mensaje = obtener_mensaje()\n",
    "        mostrar_mensaje(nombre, None, mensaje)\n",
    "\n",
    "    #Código para la opción 2. Publicar un mensaje a un grupo de personas.\n",
    "    elif opcion == 2:\n",
    "        mensaje = obtener_mensaje()\n",
    "        for i in range(num_amigos):\n",
    "            nombre_amigo = input(\"Ingresa el nombre de tu amigo o amiga: \")\n",
    "            mostrar_mensaje(nombre, nombre_amigo, mensaje)\n",
    "\n",
    "    #Código para la opción 3. Publicar los datos del perfil del usuario.\n",
    "    elif opcion == 3:\n",
    "        mostrar_perfil(nombre, edad, estatura_m, estatura_cm, num_amigos)\n",
    "\n",
    "    #Código para la opción 4. Actualizar los datos del perfil del usuario.\n",
    "    elif opcion == 4:\n",
    "        nombre = obtener_nombre()\n",
    "        edad = obtener_edad()\n",
    "        (estatura_m, estatura_cm) = obtener_estatura()\n",
    "        num_amigos = obtener_num_amigos()\n",
    "        mostrar_perfil(nombre, edad, estatura_m, estatura_cm, num_amigos)\n",
    "    elif opcion == 0:\n",
    "        print(\"Has decidido salir.\")\n",
    "\n",
    "print(\"Gracias por usar Mi Red. ¡Hasta pronto!\")"
   ]
  }
 ],
 "metadata": {
  "kernelspec": {
   "display_name": "Python 3",
   "language": "python",
   "name": "python3"
  },
  "language_info": {
   "codemirror_mode": {
    "name": "ipython",
    "version": 3
   },
   "file_extension": ".py",
   "mimetype": "text/x-python",
   "name": "python",
   "nbconvert_exporter": "python",
   "pygments_lexer": "ipython3",
   "version": "3.6.8"
  }
 },
 "nbformat": 4,
 "nbformat_minor": 2
}

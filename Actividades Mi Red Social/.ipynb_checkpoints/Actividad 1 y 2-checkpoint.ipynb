{
 "cells": [
  {
   "cell_type": "markdown",
   "metadata": {},
   "source": [
    "# Mi Red Social - Actividad 1 y 2\n",
    "Practicaremos entrada y salida de datos, a través de cinco interacciones con el usuario"
   ]
  },
  {
   "cell_type": "code",
   "execution_count": null,
   "metadata": {},
   "outputs": [],
   "source": [
    "\n",
    "#Primero, mostraremos un mensaje en pantalla dando la bienvenida al usuario\n",
    "#y escribiendo el nombre de la red.\n",
    "\n",
    "#A continuación preguntaremos algunos datos al usuario para poder construir su perfil,\n",
    "#y guardaremos esta información en variables.\n",
    "\n",
    "#Finalmente, escribiremos en pantalla todos los datos que hemos recolectado, y permitiremos\n",
    "#al usuario escribir un mensaje de estado.\n",
    "\n",
    "#Te invito a examinar el código, leer los comentarios y comprender los tipos de datos\n",
    "#que estamos utilizando en cada caso."
   ]
  },
  {
   "cell_type": "code",
   "execution_count": null,
   "metadata": {},
   "outputs": [],
   "source": [
    "############################################################\n",
    "# Lo primero que haremos será escribir un mensaje de bienvenida al usuario\n",
    "# con el nombre de la red. Puedes modificar este mensajes para que represente el nombre de tu propia red.\n",
    "\n",
    "#http://www.network-science.de/ascii/\n",
    "\n",
    "# Considera que al escribir \"\"\" también estamos delimitado un string, pero al hacerlo de esta manera,\n",
    "# cambios de línea que ocurran en el código se considerarán como parte del string.\n",
    "# Si no estás convencido, prueba el funcionamiento reemplazando los delimitadores por \"\n",
    "# \n",
    "\n",
    "print(\"Bienvenido a ... \")\n",
    "print(\"\"\"\n",
    "              _                  __\n",
    "   ____ ___  (_)  ________  ____/ /\n",
    "  / __ `__ \\/ /  / ___/ _ \\/ __  /\n",
    " / / / / / / /  / /  /  __/ /_/ /\n",
    "/_/ /_/ /_/_/  /_/   \\___/\\__,_/\n",
    "\n",
    "\"\"\")\n"
   ]
  },
  {
   "cell_type": "code",
   "execution_count": null,
   "metadata": {},
   "outputs": [],
   "source": [
    "# I. Solicitamos al usuario que ingrese su nombre,\n",
    "#y lo guardamos en una variable de tipo str\n",
    "\n",
    "nombre = input(\"Para empezar, dime como te llamas. \")\n",
    "print()\n",
    "print(\"Hola \", nombre, \", bienvenido a Mi Red\")\n",
    "print()"
   ]
  },
  {
   "cell_type": "code",
   "execution_count": null,
   "metadata": {},
   "outputs": [],
   "source": [
    "# II. Solicitamos el ingreso del año, y utilizamos este\n",
    "#dato para estimar la edad de la persona. ¿Por qué decimos que solo estamos \"estimando\" su edad?\n",
    "#¿Qué ocurre si eliminamos la conversión a tipo de dato 'int' de la siguiente línea?\n",
    "\n",
    "agno = int(input(\"Para preparar tu perfil, dime en qué año naciste. \"))\n",
    "edad = 2019-agno-1\n",
    "print(edad)"
   ]
  },
  {
   "cell_type": "code",
   "execution_count": null,
   "metadata": {},
   "outputs": [],
   "source": [
    "# III. Solicitamos la estatura, medida en metros.\n",
    "#Utilizamos la conversión a 'int', y una expresión para convertir esto\n",
    "#a una medida en metros y centímetros\n",
    "\n",
    "estatura = float(input(\"Cuéntame más de ti, para agregarlo a tu perfil. ¿Cuánto mides? Dímelo en metros. \"))\n",
    "estatura_m = int(estatura)\n",
    "estatura_cm = int( (estatura - estatura_m)*100 )\n",
    "print( \"Mides \", estatura_m, \" metro y \", estatura_cm, \"centímetros. \")"
   ]
  },
  {
   "cell_type": "code",
   "execution_count": null,
   "metadata": {},
   "outputs": [],
   "source": [
    "# IV. Consultamos cuántos amigos tiene el usuario.\n",
    "\n",
    "num_amigos = int(input(\"Muy bien. Finalmente, cuéntame cuantos amigos tienes. \"))"
   ]
  },
  {
   "cell_type": "code",
   "execution_count": null,
   "metadata": {},
   "outputs": [],
   "source": [
    "#Con los datos recolectados escribimos en pantalla un texto que resuma los datos que hemos obtenido\n",
    "print()\n",
    "print(\"Muy bien,\", nombre, \". Entonces podemos crear un perfil con estos datos.\")\n",
    "print(\"--------------------------------------------------\")\n",
    "print(\"Nombre:  \", nombre)\n",
    "print(\"Edad:    \", edad, \"años\")\n",
    "print(\"Estatura:\", estatura_m, \"metro y\", estatura_cm, \"centímetros\")\n",
    "print(\"Amigos:  \", num_amigos)\n",
    "print(\"--------------------------------------------------\")\n",
    "print(\"Gracias por la información. Esperamos que disfrutes con Mi Red\")\n",
    "print()"
   ]
  },
  {
   "cell_type": "code",
   "execution_count": null,
   "metadata": {},
   "outputs": [],
   "source": [
    "#Finalmente, solicitamos un mensaje de prueba que sirva para publicar un estado del usuario.\n",
    "mensaje = input(\"Ahora vamos a publicar tu primer mensaje. ¿Qué piensas hoy? \")\n",
    "print()\n",
    "print(\"--------------------------------------------------\")\n",
    "print(nombre, \"dice:\", mensaje)\n",
    "print(\"--------------------------------------------------\")"
   ]
  },
  {
   "cell_type": "markdown",
   "metadata": {},
   "source": [
    "# Mi Red Social Completa - ejecuto"
   ]
  },
  {
   "cell_type": "code",
   "execution_count": null,
   "metadata": {},
   "outputs": [],
   "source": [
    "print(\"Bienvenido a ... \")\n",
    "print(\"\"\"\n",
    "              _                  __\n",
    "   ____ ___  (_)  ________  ____/ /\n",
    "  / __ `__ \\/ /  / ___/ _ \\/ __  /\n",
    " / / / / / / /  / /  /  __/ /_/ /\n",
    "/_/ /_/ /_/_/  /_/   \\___/\\__,_/\n",
    "\n",
    "\"\"\")\n",
    "\n",
    "# I.\n",
    "nombre = input(\"Para empezar, dime como te llamas. \")\n",
    "print()\n",
    "print(\"Hola \", nombre, \", bienvenido a Mi Red\")\n",
    "print()\n",
    "\n",
    "# II.\n",
    "agno = int(input(\"Para preparar tu perfil, dime en qué año naciste. \"))\n",
    "edad = 2017-agno-1\n",
    "print()\n",
    "\n",
    "#III.\n",
    "estatura = float(input(\"Cuéntame más de ti, para agregarlo a tu perfil. ¿Cuánto mides? Dímelo en metros. \"))\n",
    "estatura_m = int(estatura)\n",
    "estatura_cm = int( (estatura - estatura_m)*100 )\n",
    "\n",
    "# IV.\n",
    "num_amigos = int(input(\"Muy bien. Finalmente, cuéntame cuantos amigos tienes. \"))\n",
    "\n",
    "\n",
    "# Mostramos en pantalla los datos recolectados de I, II, III y IV\n",
    "print()\n",
    "print(\"Muy bien,\", nombre, \". Entonces podemos crear un perfil con estos datos.\")\n",
    "print(\"--------------------------------------------------\")\n",
    "print(\"Nombre:  \", nombre)\n",
    "print(\"Edad:    \", edad, \"años\")\n",
    "print(\"Estatura:\", estatura_m, \"metros y\", estatura_cm, \"centímetros\")\n",
    "print(\"Amigos:  \", num_amigos)\n",
    "print(\"--------------------------------------------------\")\n",
    "print(\"Gracias por la información. Esperamos que disfrutes con Mi Red\")\n",
    "print()\n",
    "\n",
    "\n",
    "# Finalmente publicamos un estado en tu Red\n",
    "mensaje = input(\"Ahora vamos a publicar tu primer mensaje. ¿Qué piensas hoy? \")\n",
    "print()\n",
    "print(\"--------------------------------------------------\")\n",
    "print(nombre, \"dice:\", mensaje)\n",
    "print(\"--------------------------------------------------\")"
   ]
  },
  {
   "cell_type": "markdown",
   "metadata": {},
   "source": [
    "# Ejercicio 1"
   ]
  },
  {
   "cell_type": "code",
   "execution_count": null,
   "metadata": {},
   "outputs": [],
   "source": [
    "#\n",
    "# Escribe 3 solicitudes de datos al usuario, por ejemplo numero de telefono, ciudad donde vive, país de nacimiento, direccion, etc. \n",
    "# Guarda esos datos en variables del tipo, y finalmente escríbelos en pantalla utilizando print. \n",
    "# Puedes agregar todas las líneas que necesites."
   ]
  },
  {
   "cell_type": "code",
   "execution_count": null,
   "metadata": {},
   "outputs": [],
   "source": [
    "print(\"Bienvenido a ... \")\n",
    "print(\"\"\"\n",
    "              _                  __\n",
    "   ____ ___  (_)  ________  ____/ /\n",
    "  / __ `__ \\/ /  / ___/ _ \\/ __  /\n",
    " / / / / / / /  / /  /  __/ /_/ /\n",
    "/_/ /_/ /_/_/  /_/   \\___/\\__,_/\n",
    "\n",
    "\"\"\")\n",
    "\n",
    "# I.\n",
    "nombre = input(\"Para empezar, dime como te llamas. \")\n",
    "print()\n",
    "print(\"Hola \", nombre, \", bienvenido a Mi Red\")\n",
    "print()\n",
    "\n",
    "# II.\n",
    "agno = int(input(\"Para preparar tu perfil, dime en qué año naciste. \"))\n",
    "edad = 2017-agno-1\n",
    "print()\n",
    "\n",
    "#III.\n",
    "estatura = float(input(\"Cuéntame más de ti, para agregarlo a tu perfil. ¿Cuánto mides? Dímelo en metros. \"))\n",
    "estatura_m = int(estatura)\n",
    "estatura_cm = int( (estatura - estatura_m)*100 )\n",
    "\n",
    "# IV.\n",
    "num_amigos = int(input(\"Muy bien. Finalmente, cuéntame cuantos amigos tienes. \"))\n",
    "\n",
    "\n",
    "# INICIO DE TU CÓDIGO\n",
    "# V. aquí solicita el quinto dato\n",
    "\n",
    "\n",
    "# VI. aquí solicita el sexto dato\n",
    "\n",
    "\n",
    "\n",
    "# FIN DE TU CÓDIGO\n",
    "\n",
    "# Mostramos en pantalla los datos recolectados de I, II, III y IV\n",
    "print()\n",
    "print(\"Muy bien,\", nombre, \". Entonces podemos crear un perfil con estos datos.\")\n",
    "print(\"--------------------------------------------------\")\n",
    "print(\"Nombre:  \", nombre)\n",
    "print(\"Edad:    \", edad, \"años\")\n",
    "print(\"Estatura:\", estatura_m, \"metros y\", estatura_cm, \"centímetros\")\n",
    "print(\"Amigos:  \", num_amigos)\n",
    "\n",
    "# Agrega tu código para mostrar los 2 datos solicitados adicionalmente\n",
    "\n",
    "print(\"--------------------------------------------------\")\n",
    "print(\"Gracias por la información. Esperamos que disfrutes con Mi Red\")\n",
    "print()\n",
    "\n",
    "\n",
    "# Finalmente publicamos un estado en tu Red\n",
    "mensaje = input(\"Ahora vamos a publicar tu primer mensaje. ¿Qué piensas hoy? \")\n",
    "print()\n",
    "print(\"--------------------------------------------------\")\n",
    "print(nombre, \"dice:\", mensaje)\n",
    "print(\"--------------------------------------------------\")"
   ]
  },
  {
   "cell_type": "code",
   "execution_count": null,
   "metadata": {},
   "outputs": [],
   "source": []
  }
 ],
 "metadata": {
  "kernelspec": {
   "display_name": "Python 3",
   "language": "python",
   "name": "python3"
  },
  "language_info": {
   "codemirror_mode": {
    "name": "ipython",
    "version": 3
   },
   "file_extension": ".py",
   "mimetype": "text/x-python",
   "name": "python",
   "nbconvert_exporter": "python",
   "pygments_lexer": "ipython3",
   "version": "3.6.8"
  }
 },
 "nbformat": 4,
 "nbformat_minor": 2
}
